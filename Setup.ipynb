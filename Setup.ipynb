{
 "cells": [
  {
   "cell_type": "code",
   "execution_count": 7,
   "id": "dd1ecf89-da55-402f-9fc3-c076df6104b6",
   "metadata": {
    "scrolled": true,
    "tags": []
   },
   "outputs": [
    {
     "name": "stdout",
     "output_type": "stream",
     "text": [
      "Requirement already satisfied: click==8.1.3 in /Users/michalsniady/miniconda3/lib/python3.9/site-packages (from -r requirements.txt (line 1)) (8.1.3)\n",
      "Requirement already satisfied: Flask==2.1.0 in /Users/michalsniady/miniconda3/lib/python3.9/site-packages (from -r requirements.txt (line 2)) (2.1.0)\n",
      "Requirement already satisfied: importlib-metadata==6.6.0 in /Users/michalsniady/miniconda3/lib/python3.9/site-packages (from -r requirements.txt (line 3)) (6.6.0)\n",
      "Requirement already satisfied: itsdangerous==2.1.2 in /Users/michalsniady/miniconda3/lib/python3.9/site-packages (from -r requirements.txt (line 4)) (2.1.2)\n",
      "Requirement already satisfied: Jinja2==3.1.2 in /Users/michalsniady/miniconda3/lib/python3.9/site-packages (from -r requirements.txt (line 5)) (3.1.2)\n",
      "Requirement already satisfied: MarkupSafe==2.1.2 in /Users/michalsniady/miniconda3/lib/python3.9/site-packages (from -r requirements.txt (line 6)) (2.1.2)\n",
      "Requirement already satisfied: numpy==1.24.3 in /Users/michalsniady/miniconda3/lib/python3.9/site-packages (from -r requirements.txt (line 7)) (1.24.3)\n",
      "Requirement already satisfied: Werkzeug==2.2.3 in /Users/michalsniady/miniconda3/lib/python3.9/site-packages (from -r requirements.txt (line 8)) (2.2.3)\n",
      "Requirement already satisfied: zipp==3.15.0 in /Users/michalsniady/miniconda3/lib/python3.9/site-packages (from -r requirements.txt (line 9)) (3.15.0)\n",
      "Requirement already satisfied: pandas==2.0.1 in /Users/michalsniady/miniconda3/lib/python3.9/site-packages (from -r requirements.txt (line 10)) (2.0.1)\n",
      "Collecting scikit-learn==1.2.2\n",
      "  Downloading scikit_learn-1.2.2-cp39-cp39-macosx_10_9_x86_64.whl (9.1 MB)\n",
      "\u001b[2K     \u001b[90m━━━━━━━━━━━━━━━━━━━━━━━━━━━━━━━━━━━━━━━━\u001b[0m \u001b[32m9.1/9.1 MB\u001b[0m \u001b[31m24.4 MB/s\u001b[0m eta \u001b[36m0:00:00\u001b[0m00:01\u001b[0m00:01\u001b[0m\n",
      "\u001b[?25hRequirement already satisfied: tzdata>=2022.1 in /Users/michalsniady/miniconda3/lib/python3.9/site-packages (from pandas==2.0.1->-r requirements.txt (line 10)) (2023.3)\n",
      "Requirement already satisfied: python-dateutil>=2.8.2 in /Users/michalsniady/miniconda3/lib/python3.9/site-packages (from pandas==2.0.1->-r requirements.txt (line 10)) (2.8.2)\n",
      "Requirement already satisfied: pytz>=2020.1 in /Users/michalsniady/miniconda3/lib/python3.9/site-packages (from pandas==2.0.1->-r requirements.txt (line 10)) (2023.3)\n",
      "Collecting threadpoolctl>=2.0.0\n",
      "  Using cached threadpoolctl-3.1.0-py3-none-any.whl (14 kB)\n",
      "Collecting joblib>=1.1.1\n",
      "  Using cached joblib-1.2.0-py3-none-any.whl (297 kB)\n",
      "Collecting scipy>=1.3.2\n",
      "  Downloading scipy-1.10.1-cp39-cp39-macosx_10_9_x86_64.whl (35.2 MB)\n",
      "\u001b[2K     \u001b[90m━━━━━━━━━━━━━━━━━━━━━━━━━━━━━━━━━━━━━━━━\u001b[0m \u001b[32m35.2/35.2 MB\u001b[0m \u001b[31m25.1 MB/s\u001b[0m eta \u001b[36m0:00:00\u001b[0m00:01\u001b[0m00:01\u001b[0m\n",
      "\u001b[?25hRequirement already satisfied: six>=1.5 in /Users/michalsniady/miniconda3/lib/python3.9/site-packages (from python-dateutil>=2.8.2->pandas==2.0.1->-r requirements.txt (line 10)) (1.16.0)\n",
      "Installing collected packages: threadpoolctl, scipy, joblib, scikit-learn\n",
      "Successfully installed joblib-1.2.0 scikit-learn-1.2.2 scipy-1.10.1 threadpoolctl-3.1.0\n"
     ]
    }
   ],
   "source": [
    "!pip install -r requirements.txt"
   ]
  },
  {
   "cell_type": "code",
   "execution_count": null,
   "id": "7ba917c4-fd73-434e-b4fe-25334e0d5557",
   "metadata": {},
   "outputs": [
    {
     "name": "stdout",
     "output_type": "stream",
     "text": [
      " * Serving Flask app 'app' (lazy loading)\n",
      " * Environment: production\n",
      "\u001b[31m   WARNING: This is a development server. Do not use it in a production deployment.\u001b[0m\n",
      "\u001b[2m   Use a production WSGI server instead.\u001b[0m\n",
      " * Debug mode: off\n",
      "\u001b[31m\u001b[1mWARNING: This is a development server. Do not use it in a production deployment. Use a production WSGI server instead.\u001b[0m\n",
      " * Running on http://127.0.0.1:5000\n",
      "\u001b[33mPress CTRL+C to quit\u001b[0m\n",
      "<__main__.Perceptron object at 0x7fa79b1bf4c0>\n",
      "127.0.0.1 - - [07/May/2023 18:56:03] \"GET /api/v1.0/predict?&sl=4.5&pl=1.3 HTTP/1.1\" 200 -\n"
     ]
    }
   ],
   "source": [
    "!python app.py"
   ]
  },
  {
   "cell_type": "code",
   "execution_count": null,
   "id": "d1572355-6c37-4234-878d-d240239581ff",
   "metadata": {},
   "outputs": [],
   "source": []
  }
 ],
 "metadata": {
  "kernelspec": {
   "display_name": "Python 3 (ipykernel)",
   "language": "python",
   "name": "python3"
  },
  "language_info": {
   "codemirror_mode": {
    "name": "ipython",
    "version": 3
   },
   "file_extension": ".py",
   "mimetype": "text/x-python",
   "name": "python",
   "nbconvert_exporter": "python",
   "pygments_lexer": "ipython3",
   "version": "3.9.16"
  }
 },
 "nbformat": 4,
 "nbformat_minor": 5
}
