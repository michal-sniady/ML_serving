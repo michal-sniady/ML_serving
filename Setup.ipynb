{
 "cells": [
  {
   "cell_type": "code",
   "execution_count": 1,
   "id": "dd1ecf89-da55-402f-9fc3-c076df6104b6",
   "metadata": {
    "scrolled": true,
    "tags": []
   },
   "outputs": [
    {
     "name": "stdout",
     "output_type": "stream",
     "text": [
      "Requirement already satisfied: click==8.1.3 in /Users/michalsniady/miniconda3/lib/python3.9/site-packages (from -r requirements.txt (line 1)) (8.1.3)\n",
      "Requirement already satisfied: Flask==2.1.0 in /Users/michalsniady/miniconda3/lib/python3.9/site-packages (from -r requirements.txt (line 2)) (2.1.0)\n",
      "Requirement already satisfied: importlib-metadata==6.6.0 in /Users/michalsniady/miniconda3/lib/python3.9/site-packages (from -r requirements.txt (line 3)) (6.6.0)\n",
      "Requirement already satisfied: itsdangerous==2.1.2 in /Users/michalsniady/miniconda3/lib/python3.9/site-packages (from -r requirements.txt (line 4)) (2.1.2)\n",
      "Requirement already satisfied: Jinja2==3.1.2 in /Users/michalsniady/miniconda3/lib/python3.9/site-packages (from -r requirements.txt (line 5)) (3.1.2)\n",
      "Requirement already satisfied: MarkupSafe==2.1.2 in /Users/michalsniady/miniconda3/lib/python3.9/site-packages (from -r requirements.txt (line 6)) (2.1.2)\n",
      "Requirement already satisfied: numpy==1.24.3 in /Users/michalsniady/miniconda3/lib/python3.9/site-packages (from -r requirements.txt (line 7)) (1.24.3)\n",
      "Requirement already satisfied: Werkzeug==2.2.3 in /Users/michalsniady/miniconda3/lib/python3.9/site-packages (from -r requirements.txt (line 8)) (2.2.3)\n",
      "Requirement already satisfied: zipp==3.15.0 in /Users/michalsniady/miniconda3/lib/python3.9/site-packages (from -r requirements.txt (line 9)) (3.15.0)\n",
      "Requirement already satisfied: pandas==2.0.1 in /Users/michalsniady/miniconda3/lib/python3.9/site-packages (from -r requirements.txt (line 10)) (2.0.1)\n",
      "Requirement already satisfied: scikit-learn==1.2.2 in /Users/michalsniady/miniconda3/lib/python3.9/site-packages (from -r requirements.txt (line 11)) (1.2.2)\n",
      "Requirement already satisfied: tzdata>=2022.1 in /Users/michalsniady/miniconda3/lib/python3.9/site-packages (from pandas==2.0.1->-r requirements.txt (line 10)) (2023.3)\n",
      "Requirement already satisfied: python-dateutil>=2.8.2 in /Users/michalsniady/miniconda3/lib/python3.9/site-packages (from pandas==2.0.1->-r requirements.txt (line 10)) (2.8.2)\n",
      "Requirement already satisfied: pytz>=2020.1 in /Users/michalsniady/miniconda3/lib/python3.9/site-packages (from pandas==2.0.1->-r requirements.txt (line 10)) (2023.3)\n",
      "Requirement already satisfied: joblib>=1.1.1 in /Users/michalsniady/miniconda3/lib/python3.9/site-packages (from scikit-learn==1.2.2->-r requirements.txt (line 11)) (1.2.0)\n",
      "Requirement already satisfied: threadpoolctl>=2.0.0 in /Users/michalsniady/miniconda3/lib/python3.9/site-packages (from scikit-learn==1.2.2->-r requirements.txt (line 11)) (3.1.0)\n",
      "Requirement already satisfied: scipy>=1.3.2 in /Users/michalsniady/miniconda3/lib/python3.9/site-packages (from scikit-learn==1.2.2->-r requirements.txt (line 11)) (1.10.1)\n",
      "Requirement already satisfied: six>=1.5 in /Users/michalsniady/miniconda3/lib/python3.9/site-packages (from python-dateutil>=2.8.2->pandas==2.0.1->-r requirements.txt (line 10)) (1.16.0)\n"
     ]
    }
   ],
   "source": [
    "!pip install -r requirements.txt"
   ]
  },
  {
   "cell_type": "code",
   "execution_count": null,
   "id": "7ba917c4-fd73-434e-b4fe-25334e0d5557",
   "metadata": {},
   "outputs": [
    {
     "name": "stdout",
     "output_type": "stream",
     "text": [
      "Hello world\n",
      " * Serving Flask app 'app' (lazy loading)\n",
      " * Environment: production\n",
      "\u001b[31m   WARNING: This is a development server. Do not use it in a production deployment.\u001b[0m\n",
      "\u001b[2m   Use a production WSGI server instead.\u001b[0m\n",
      " * Debug mode: off\n",
      "\u001b[31m\u001b[1mWARNING: This is a development server. Do not use it in a production deployment. Use a production WSGI server instead.\u001b[0m\n",
      " * Running on http://127.0.0.1:5000\n",
      "\u001b[33mPress CTRL+C to quit\u001b[0m\n",
      "<__main__.Perceptron object at 0x7fc7b07c04c0>\n",
      "127.0.0.1 - - [08/May/2023 18:04:17] \"GET /api/v1.0/predict?&sl=4.6&pl=1.3 HTTP/1.1\" 200 -\n"
     ]
    }
   ],
   "source": [
    "!python app.py"
   ]
  },
  {
   "cell_type": "code",
   "execution_count": null,
   "id": "d1572355-6c37-4234-878d-d240239581ff",
   "metadata": {},
   "outputs": [],
   "source": []
  }
 ],
 "metadata": {
  "kernelspec": {
   "display_name": "Python 3 (ipykernel)",
   "language": "python",
   "name": "python3"
  },
  "language_info": {
   "codemirror_mode": {
    "name": "ipython",
    "version": 3
   },
   "file_extension": ".py",
   "mimetype": "text/x-python",
   "name": "python",
   "nbconvert_exporter": "python",
   "pygments_lexer": "ipython3",
   "version": "3.9.16"
  }
 },
 "nbformat": 4,
 "nbformat_minor": 5
}
